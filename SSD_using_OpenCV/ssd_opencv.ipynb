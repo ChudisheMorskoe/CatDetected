{
 "nbformat": 4,
 "nbformat_minor": 0,
 "metadata": {
  "colab": {
   "provenance": [],
   "authorship_tag": "ABX9TyPnMADqhTnVJJO8IOn2KCOz",
   "include_colab_link": true
  },
  "kernelspec": {
   "name": "python3",
   "display_name": "Python 3"
  },
  "language_info": {
   "name": "python"
  }
 },
 "cells": [
  {
   "cell_type": "markdown",
   "metadata": {
    "id": "view-in-github",
    "colab_type": "text"
   },
   "source": [
    "<a href=\"https://colab.research.google.com/github/DatumLearning/SSD_using_OpenCV/blob/main/ssd_opencv.ipynb\" target=\"_parent\"><img src=\"https://colab.research.google.com/assets/colab-badge.svg\" alt=\"Open In Colab\"/></a>"
   ]
  },
  {
   "cell_type": "code",
   "execution_count": 1,
   "metadata": {
    "colab": {
     "base_uri": "https://localhost:8080/"
    },
    "id": "cQ-IN3occo8z",
    "outputId": "a82471c1-4f26-4fc2-a281-bc35007030e5"
   },
   "source": [
    "!git clone https://github.com/DatumLearning/SSD_using_OpenCV.git"
   ],
   "outputs": []
  },
  {
   "cell_type": "code",
   "source": [
    "import numpy as np\n",
    "import cv2\n",
    "import os\n",
    "from google.colab.patches import cv2_imshow"
   ],
   "metadata": {
    "id": "sXCUfHz2dBoc"
   },
   "execution_count": 2,
   "outputs": []
  },
  {
   "cell_type": "code",
   "source": [
    "classNames = { 0: 'background',\n",
    "    1: 'aeroplane', 2: 'bicycle', 3: 'bird', 4: 'boat',\n",
    "    5: 'bottle', 6: 'bus', 7: 'car', 8: 'cat', 9: 'chair',\n",
    "    10: 'cow', 11: 'diningtable', 12: 'dog', 13: 'horse',\n",
    "    14: 'motorbike', 15: 'person', 16: 'pottedplant',\n",
    "    17: 'sheep', 18: 'sofa', 19: 'train', 20: 'tvmonitor' }"
   ],
   "metadata": {
    "id": "2tFpksBSdLyz"
   },
   "execution_count": 3,
   "outputs": []
  },
  {
   "cell_type": "code",
   "source": [
    "proto = \"/content/SSD_using_OpenCV/MobileNetSSD_deploy.prototxt\"\n",
    "weights = \"/content/SSD_using_OpenCV/MobileNetSSD_deploy.caffemodel\"\n",
    "net = cv2.dnn.readNetFromCaffe(proto , weights)"
   ],
   "metadata": {
    "id": "MnKJ13vXdVvP"
   },
   "execution_count": 4,
   "outputs": []
  },
  {
   "cell_type": "code",
   "source": [
    "img = cv2.imread(\"/content/SSD_using_OpenCV/doggo.jpg\")\n",
    "img_resized = cv2.resize(img , (300 , 300))"
   ],
   "metadata": {
    "id": "ff2H6hJFdyii"
   },
   "execution_count": 5,
   "outputs": []
  },
  {
   "cell_type": "code",
   "source": [
    "blob = cv2.dnn.blobFromImage(img_resized , 0.007843 , (300 , 300) , \n",
    "                             (127.5 , 127.5 , 127.5) , False)\n",
    "net.setInput(blob)\n",
    "detections = net.forward()"
   ],
   "metadata": {
    "id": "WZiCrmWmeD1l"
   },
   "execution_count": 6,
   "outputs": []
  },
  {
   "cell_type": "code",
   "source": [
    "height , width , _ = img.shape"
   ],
   "metadata": {
    "id": "LLPy6VRCegRx"
   },
   "execution_count": 7,
   "outputs": []
  },
  {
   "cell_type": "code",
   "source": [
    "final = detections.squeeze()"
   ],
   "metadata": {
    "id": "2EzI3geVfWcm"
   },
   "execution_count": 8,
   "outputs": []
  },
  {
   "cell_type": "code",
   "source": [
    "final.shape"
   ],
   "metadata": {
    "colab": {
     "base_uri": "https://localhost:8080/"
    },
    "id": "gfSUcsx9fZbY",
    "outputId": "8f26c332-761e-44ad-a5f5-9c6e97f75ec5"
   },
   "execution_count": 9,
   "outputs": []
  },
  {
   "cell_type": "code",
   "source": [
    "font = cv2.FONT_HERSHEY_SIMPLEX"
   ],
   "metadata": {
    "id": "2gPD9vIMiiLP"
   },
   "execution_count": 10,
   "outputs": []
  },
  {
   "cell_type": "code",
   "source": [
    "ig = cv2.imread(\"/content/SSD_using_OpenCV/doggo.jpg\")\n",
    "for i in range(final.shape[0]):\n",
    "  conf = final[i , 2]\n",
    "  if conf > 0.5:\n",
    "    class_name = classNames[final[i , 1]]\n",
    "    x1 , y1 , x2 , y2 = final[i , 3:]\n",
    "    x1 *= width\n",
    "    y1 *= height\n",
    "    x2 *= width\n",
    "    y2 *= height\n",
    "    top_left = (int(x1) , int(y1))\n",
    "    bottom_right = (int(x2) , int(y2))\n",
    "    ig = cv2.rectangle(ig , top_left , bottom_right , (0 , 255 , 0) , 3)\n",
    "    ig = cv2.putText(ig , class_name , (int(x1) , int(y1) - 10) , font , \n",
    "                     1 , (255 , 0 , 0) , 2 , cv2.LINE_AA)\n",
    "cv2_imshow(ig)"
   ],
   "metadata": {
    "colab": {
     "base_uri": "https://localhost:8080/",
     "height": 488
    },
    "id": "9h00b1Yngm73",
    "outputId": "932535ae-ee91-4803-ec40-d2a982539c33"
   },
   "execution_count": 11,
   "outputs": []
  },
  {
   "cell_type": "code",
   "source": [],
   "metadata": {
    "id": "9fennbpPv313"
   },
   "execution_count": null,
   "outputs": []
  }
 ]
}
